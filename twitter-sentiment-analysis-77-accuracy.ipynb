{
 "cells": [
  {
   "cell_type": "code",
   "execution_count": 1,
   "id": "d2f84f66",
   "metadata": {
    "_cell_guid": "b1076dfc-b9ad-4769-8c92-a6c4dae69d19",
    "_uuid": "8f2839f25d086af736a60e9eeb907d3b93b6e0e5",
    "execution": {
     "iopub.execute_input": "2022-05-20T09:50:57.136767Z",
     "iopub.status.busy": "2022-05-20T09:50:57.136258Z",
     "iopub.status.idle": "2022-05-20T09:50:57.160748Z",
     "shell.execute_reply": "2022-05-20T09:50:57.159655Z"
    },
    "papermill": {
     "duration": 0.049325,
     "end_time": "2022-05-20T09:50:57.163523",
     "exception": false,
     "start_time": "2022-05-20T09:50:57.114198",
     "status": "completed"
    },
    "tags": []
   },
   "outputs": [
    {
     "name": "stdout",
     "output_type": "stream",
     "text": [
      "/kaggle/input/twitter-tweets-sentiment-dataset/Tweets.csv\n"
     ]
    }
   ],
   "source": [
    "# This Python 3 environment comes with many helpful analytics libraries installed\n",
    "# It is defined by the kaggle/python Docker image: https://github.com/kaggle/docker-python\n",
    "# For example, here's several helpful packages to load\n",
    "\n",
    "import numpy as np # linear algebra\n",
    "import pandas as pd # data processing, CSV file I/O (e.g. pd.read_csv)\n",
    "\n",
    "# Input data files are available in the read-only \"../input/\" directory\n",
    "# For example, running this (by clicking run or pressing Shift+Enter) will list all files under the input directory\n",
    "\n",
    "import os\n",
    "for dirname, _, filenames in os.walk('/kaggle/input'):\n",
    "    for filename in filenames:\n",
    "        print(os.path.join(dirname, filename))\n",
    "\n",
    "# You can write up to 20GB to the current directory (/kaggle/working/) that gets preserved as output when you create a version using \"Save & Run All\" \n",
    "# You can also write temporary files to /kaggle/temp/, but they won't be saved outside of the current session"
   ]
  },
  {
   "cell_type": "code",
   "execution_count": 2,
   "id": "1dc9072f",
   "metadata": {
    "execution": {
     "iopub.execute_input": "2022-05-20T09:50:57.205908Z",
     "iopub.status.busy": "2022-05-20T09:50:57.205607Z",
     "iopub.status.idle": "2022-05-20T09:50:58.032573Z",
     "shell.execute_reply": "2022-05-20T09:50:58.031456Z"
    },
    "papermill": {
     "duration": 0.850694,
     "end_time": "2022-05-20T09:50:58.035132",
     "exception": false,
     "start_time": "2022-05-20T09:50:57.184438",
     "status": "completed"
    },
    "tags": []
   },
   "outputs": [
    {
     "name": "stdout",
     "output_type": "stream",
     "text": [
      "Fri May 20 09:50:57 2022       \r\n",
      "+-----------------------------------------------------------------------------+\r\n",
      "| NVIDIA-SMI 470.82.01    Driver Version: 470.82.01    CUDA Version: 11.4     |\r\n",
      "|-------------------------------+----------------------+----------------------+\r\n",
      "| GPU  Name        Persistence-M| Bus-Id        Disp.A | Volatile Uncorr. ECC |\r\n",
      "| Fan  Temp  Perf  Pwr:Usage/Cap|         Memory-Usage | GPU-Util  Compute M. |\r\n",
      "|                               |                      |               MIG M. |\r\n",
      "|===============================+======================+======================|\r\n",
      "|   0  Tesla P100-PCIE...  Off  | 00000000:00:04.0 Off |                    0 |\r\n",
      "| N/A   43C    P0    29W / 250W |      0MiB / 16280MiB |      0%      Default |\r\n",
      "|                               |                      |                  N/A |\r\n",
      "+-------------------------------+----------------------+----------------------+\r\n",
      "                                                                               \r\n",
      "+-----------------------------------------------------------------------------+\r\n",
      "| Processes:                                                                  |\r\n",
      "|  GPU   GI   CI        PID   Type   Process name                  GPU Memory |\r\n",
      "|        ID   ID                                                   Usage      |\r\n",
      "|=============================================================================|\r\n",
      "|  No running processes found                                                 |\r\n",
      "+-----------------------------------------------------------------------------+\r\n"
     ]
    }
   ],
   "source": [
    "!nvidia-smi"
   ]
  },
  {
   "cell_type": "code",
   "execution_count": 3,
   "id": "527ecd34",
   "metadata": {
    "execution": {
     "iopub.execute_input": "2022-05-20T09:50:58.076335Z",
     "iopub.status.busy": "2022-05-20T09:50:58.076030Z",
     "iopub.status.idle": "2022-05-20T09:50:58.217420Z",
     "shell.execute_reply": "2022-05-20T09:50:58.216384Z"
    },
    "papermill": {
     "duration": 0.164668,
     "end_time": "2022-05-20T09:50:58.219793",
     "exception": false,
     "start_time": "2022-05-20T09:50:58.055125",
     "status": "completed"
    },
    "tags": []
   },
   "outputs": [
    {
     "data": {
      "text/html": [
       "<div>\n",
       "<style scoped>\n",
       "    .dataframe tbody tr th:only-of-type {\n",
       "        vertical-align: middle;\n",
       "    }\n",
       "\n",
       "    .dataframe tbody tr th {\n",
       "        vertical-align: top;\n",
       "    }\n",
       "\n",
       "    .dataframe thead th {\n",
       "        text-align: right;\n",
       "    }\n",
       "</style>\n",
       "<table border=\"1\" class=\"dataframe\">\n",
       "  <thead>\n",
       "    <tr style=\"text-align: right;\">\n",
       "      <th></th>\n",
       "      <th>textID</th>\n",
       "      <th>text</th>\n",
       "      <th>selected_text</th>\n",
       "      <th>sentiment</th>\n",
       "    </tr>\n",
       "  </thead>\n",
       "  <tbody>\n",
       "    <tr>\n",
       "      <th>0</th>\n",
       "      <td>cb774db0d1</td>\n",
       "      <td>I`d have responded, if I were going</td>\n",
       "      <td>I`d have responded, if I were going</td>\n",
       "      <td>neutral</td>\n",
       "    </tr>\n",
       "    <tr>\n",
       "      <th>1</th>\n",
       "      <td>549e992a42</td>\n",
       "      <td>Sooo SAD I will miss you here in San Diego!!!</td>\n",
       "      <td>Sooo SAD</td>\n",
       "      <td>negative</td>\n",
       "    </tr>\n",
       "    <tr>\n",
       "      <th>2</th>\n",
       "      <td>088c60f138</td>\n",
       "      <td>my boss is bullying me...</td>\n",
       "      <td>bullying me</td>\n",
       "      <td>negative</td>\n",
       "    </tr>\n",
       "    <tr>\n",
       "      <th>3</th>\n",
       "      <td>9642c003ef</td>\n",
       "      <td>what interview! leave me alone</td>\n",
       "      <td>leave me alone</td>\n",
       "      <td>negative</td>\n",
       "    </tr>\n",
       "    <tr>\n",
       "      <th>4</th>\n",
       "      <td>358bd9e861</td>\n",
       "      <td>Sons of ****, why couldn`t they put them on t...</td>\n",
       "      <td>Sons of ****,</td>\n",
       "      <td>negative</td>\n",
       "    </tr>\n",
       "  </tbody>\n",
       "</table>\n",
       "</div>"
      ],
      "text/plain": [
       "       textID                                               text  \\\n",
       "0  cb774db0d1                I`d have responded, if I were going   \n",
       "1  549e992a42      Sooo SAD I will miss you here in San Diego!!!   \n",
       "2  088c60f138                          my boss is bullying me...   \n",
       "3  9642c003ef                     what interview! leave me alone   \n",
       "4  358bd9e861   Sons of ****, why couldn`t they put them on t...   \n",
       "\n",
       "                         selected_text sentiment  \n",
       "0  I`d have responded, if I were going   neutral  \n",
       "1                             Sooo SAD  negative  \n",
       "2                          bullying me  negative  \n",
       "3                       leave me alone  negative  \n",
       "4                        Sons of ****,  negative  "
      ]
     },
     "execution_count": 3,
     "metadata": {},
     "output_type": "execute_result"
    }
   ],
   "source": [
    "import pandas as pd\n",
    "df=pd.read_csv(\"../input/twitter-tweets-sentiment-dataset/Tweets.csv\")\n",
    "df.head()"
   ]
  },
  {
   "cell_type": "code",
   "execution_count": 4,
   "id": "a2b69db6",
   "metadata": {
    "execution": {
     "iopub.execute_input": "2022-05-20T09:50:58.261878Z",
     "iopub.status.busy": "2022-05-20T09:50:58.261617Z",
     "iopub.status.idle": "2022-05-20T09:50:58.282376Z",
     "shell.execute_reply": "2022-05-20T09:50:58.280432Z"
    },
    "papermill": {
     "duration": 0.04429,
     "end_time": "2022-05-20T09:50:58.284533",
     "exception": false,
     "start_time": "2022-05-20T09:50:58.240243",
     "status": "completed"
    },
    "tags": []
   },
   "outputs": [
    {
     "data": {
      "text/html": [
       "<div>\n",
       "<style scoped>\n",
       "    .dataframe tbody tr th:only-of-type {\n",
       "        vertical-align: middle;\n",
       "    }\n",
       "\n",
       "    .dataframe tbody tr th {\n",
       "        vertical-align: top;\n",
       "    }\n",
       "\n",
       "    .dataframe thead th {\n",
       "        text-align: right;\n",
       "    }\n",
       "</style>\n",
       "<table border=\"1\" class=\"dataframe\">\n",
       "  <thead>\n",
       "    <tr style=\"text-align: right;\">\n",
       "      <th></th>\n",
       "      <th>textID</th>\n",
       "      <th>text</th>\n",
       "      <th>selected_text</th>\n",
       "      <th>sentiment</th>\n",
       "    </tr>\n",
       "  </thead>\n",
       "  <tbody>\n",
       "    <tr>\n",
       "      <th>314</th>\n",
       "      <td>fdb77c3752</td>\n",
       "      <td>NaN</td>\n",
       "      <td>NaN</td>\n",
       "      <td>neutral</td>\n",
       "    </tr>\n",
       "  </tbody>\n",
       "</table>\n",
       "</div>"
      ],
      "text/plain": [
       "         textID text selected_text sentiment\n",
       "314  fdb77c3752  NaN           NaN   neutral"
      ]
     },
     "execution_count": 4,
     "metadata": {},
     "output_type": "execute_result"
    }
   ],
   "source": [
    "df[df['selected_text'].isnull()==True]\n",
    "\n"
   ]
  },
  {
   "cell_type": "code",
   "execution_count": 5,
   "id": "d15ac13a",
   "metadata": {
    "execution": {
     "iopub.execute_input": "2022-05-20T09:50:58.325958Z",
     "iopub.status.busy": "2022-05-20T09:50:58.325712Z",
     "iopub.status.idle": "2022-05-20T09:50:58.333960Z",
     "shell.execute_reply": "2022-05-20T09:50:58.333055Z"
    },
    "papermill": {
     "duration": 0.031712,
     "end_time": "2022-05-20T09:50:58.336472",
     "exception": false,
     "start_time": "2022-05-20T09:50:58.304760",
     "status": "completed"
    },
    "tags": []
   },
   "outputs": [],
   "source": [
    "df.drop(314,inplace=True)"
   ]
  },
  {
   "cell_type": "code",
   "execution_count": 6,
   "id": "bb39f73f",
   "metadata": {
    "execution": {
     "iopub.execute_input": "2022-05-20T09:50:58.379441Z",
     "iopub.status.busy": "2022-05-20T09:50:58.379168Z",
     "iopub.status.idle": "2022-05-20T09:50:58.393722Z",
     "shell.execute_reply": "2022-05-20T09:50:58.392627Z"
    },
    "papermill": {
     "duration": 0.039009,
     "end_time": "2022-05-20T09:50:58.396263",
     "exception": false,
     "start_time": "2022-05-20T09:50:58.357254",
     "status": "completed"
    },
    "tags": []
   },
   "outputs": [
    {
     "data": {
      "text/plain": [
       "0"
      ]
     },
     "execution_count": 6,
     "metadata": {},
     "output_type": "execute_result"
    }
   ],
   "source": [
    "sum(df['selected_text'].isnull())"
   ]
  },
  {
   "cell_type": "code",
   "execution_count": 7,
   "id": "6c7e428b",
   "metadata": {
    "execution": {
     "iopub.execute_input": "2022-05-20T09:50:58.439739Z",
     "iopub.status.busy": "2022-05-20T09:50:58.438935Z",
     "iopub.status.idle": "2022-05-20T09:50:59.554147Z",
     "shell.execute_reply": "2022-05-20T09:50:59.553135Z"
    },
    "papermill": {
     "duration": 1.139644,
     "end_time": "2022-05-20T09:50:59.556664",
     "exception": false,
     "start_time": "2022-05-20T09:50:58.417020",
     "status": "completed"
    },
    "tags": []
   },
   "outputs": [],
   "source": [
    "X=df['selected_text']\n",
    "y=df['sentiment']\n",
    "from sklearn.model_selection import train_test_split\n",
    "from sklearn.preprocessing import LabelEncoder\n",
    "le=LabelEncoder()\n",
    "y=le.fit_transform(y)"
   ]
  },
  {
   "cell_type": "code",
   "execution_count": 8,
   "id": "9dc218d5",
   "metadata": {
    "execution": {
     "iopub.execute_input": "2022-05-20T09:50:59.605080Z",
     "iopub.status.busy": "2022-05-20T09:50:59.604825Z",
     "iopub.status.idle": "2022-05-20T09:50:59.614607Z",
     "shell.execute_reply": "2022-05-20T09:50:59.613777Z"
    },
    "papermill": {
     "duration": 0.035755,
     "end_time": "2022-05-20T09:50:59.617061",
     "exception": false,
     "start_time": "2022-05-20T09:50:59.581306",
     "status": "completed"
    },
    "tags": []
   },
   "outputs": [],
   "source": [
    "train_sentences,test_sentences,train_labels,test_labels=train_test_split(X,y,test_size=0.2,random_state=42)\n"
   ]
  },
  {
   "cell_type": "code",
   "execution_count": 9,
   "id": "fd03d01f",
   "metadata": {
    "execution": {
     "iopub.execute_input": "2022-05-20T09:50:59.659538Z",
     "iopub.status.busy": "2022-05-20T09:50:59.659275Z",
     "iopub.status.idle": "2022-05-20T09:50:59.667741Z",
     "shell.execute_reply": "2022-05-20T09:50:59.666726Z"
    },
    "papermill": {
     "duration": 0.033287,
     "end_time": "2022-05-20T09:50:59.671000",
     "exception": false,
     "start_time": "2022-05-20T09:50:59.637713",
     "status": "completed"
    },
    "tags": []
   },
   "outputs": [
    {
     "name": "stdout",
     "output_type": "stream",
     "text": [
      "Total training samples :(21984,)\n",
      "\n",
      "\n",
      "Total training labels (21984,)\n",
      "\n",
      "\n",
      "Total test samples:(5496,)\n",
      "\n",
      "\n",
      "Total test labels (5496,)\n"
     ]
    }
   ],
   "source": [
    "print(f'Total training samples :{train_sentences.shape}')\n",
    "print(\"\\n\")\n",
    "print(f'Total training labels {train_labels.shape}')\n",
    "print(\"\\n\")\n",
    "print(f'Total test samples:{test_sentences.shape}')\n",
    "print(\"\\n\")\n",
    "print(f'Total test labels {test_labels.shape}')"
   ]
  },
  {
   "cell_type": "code",
   "execution_count": 10,
   "id": "b308c844",
   "metadata": {
    "execution": {
     "iopub.execute_input": "2022-05-20T09:50:59.715742Z",
     "iopub.status.busy": "2022-05-20T09:50:59.715508Z",
     "iopub.status.idle": "2022-05-20T09:51:00.036900Z",
     "shell.execute_reply": "2022-05-20T09:51:00.035703Z"
    },
    "papermill": {
     "duration": 0.346716,
     "end_time": "2022-05-20T09:51:00.040202",
     "exception": false,
     "start_time": "2022-05-20T09:50:59.693486",
     "status": "completed"
    },
    "tags": []
   },
   "outputs": [
    {
     "data": {
      "text/plain": [
       "Pipeline(steps=[('tfidf_vectorizer', TfidfVectorizer(stop_words='english')),\n",
       "                ('naive_bayes', MultinomialNB())])"
      ]
     },
     "execution_count": 10,
     "metadata": {},
     "output_type": "execute_result"
    }
   ],
   "source": [
    "from sklearn.feature_extraction.text import TfidfVectorizer\n",
    "from sklearn.naive_bayes import MultinomialNB\n",
    "from sklearn.pipeline import Pipeline\n",
    "model =Pipeline([('tfidf_vectorizer',TfidfVectorizer(lowercase = True,\n",
    "                                                     stop_words = 'english',\n",
    "                                                    analyzer = 'word')),\n",
    "                 \n",
    "                 ('naive_bayes', MultinomialNB())])\n",
    "\n",
    "\n",
    "model.fit(train_sentences, train_labels)"
   ]
  },
  {
   "cell_type": "code",
   "execution_count": 11,
   "id": "47d61273",
   "metadata": {
    "execution": {
     "iopub.execute_input": "2022-05-20T09:51:00.085088Z",
     "iopub.status.busy": "2022-05-20T09:51:00.084810Z",
     "iopub.status.idle": "2022-05-20T09:51:00.157104Z",
     "shell.execute_reply": "2022-05-20T09:51:00.155349Z"
    },
    "papermill": {
     "duration": 0.098131,
     "end_time": "2022-05-20T09:51:00.160586",
     "exception": false,
     "start_time": "2022-05-20T09:51:00.062455",
     "status": "completed"
    },
    "tags": []
   },
   "outputs": [
    {
     "name": "stdout",
     "output_type": "stream",
     "text": [
      "model_accuracy:0.7771106259097526\n"
     ]
    }
   ],
   "source": [
    "accuracy=model.score(test_sentences,test_labels)\n",
    "print(f'model_accuracy:{accuracy}')"
   ]
  },
  {
   "cell_type": "code",
   "execution_count": 12,
   "id": "9a2af0e3",
   "metadata": {
    "execution": {
     "iopub.execute_input": "2022-05-20T09:51:00.207997Z",
     "iopub.status.busy": "2022-05-20T09:51:00.207755Z",
     "iopub.status.idle": "2022-05-20T09:51:00.277465Z",
     "shell.execute_reply": "2022-05-20T09:51:00.276443Z"
    },
    "papermill": {
     "duration": 0.09553,
     "end_time": "2022-05-20T09:51:00.279621",
     "exception": false,
     "start_time": "2022-05-20T09:51:00.184091",
     "status": "completed"
    },
    "tags": []
   },
   "outputs": [],
   "source": [
    "model_preds=model.predict(test_sentences)"
   ]
  },
  {
   "cell_type": "code",
   "execution_count": 13,
   "id": "32f1a98b",
   "metadata": {
    "execution": {
     "iopub.execute_input": "2022-05-20T09:51:00.324692Z",
     "iopub.status.busy": "2022-05-20T09:51:00.323969Z",
     "iopub.status.idle": "2022-05-20T09:51:00.330825Z",
     "shell.execute_reply": "2022-05-20T09:51:00.329765Z"
    },
    "papermill": {
     "duration": 0.031225,
     "end_time": "2022-05-20T09:51:00.332917",
     "exception": false,
     "start_time": "2022-05-20T09:51:00.301692",
     "status": "completed"
    },
    "tags": []
   },
   "outputs": [],
   "source": [
    "\n",
    "from sklearn.metrics import accuracy_score, precision_recall_fscore_support\n",
    "def calculate_results(y_true, y_pred):\n",
    "    model_accuracy = accuracy_score(y_true, y_pred) * 100\n",
    "    model_precision, model_recall, model_f1, _ = precision_recall_fscore_support(y_true, y_pred, average=\"weighted\")\n",
    "    model_results = {\"accuracy\": model_accuracy,\n",
    "                  \"precision\": model_precision,\n",
    "                  \"recall\": model_recall,\n",
    "                  \"f1\": model_f1}\n",
    "    return model_results"
   ]
  },
  {
   "cell_type": "code",
   "execution_count": 14,
   "id": "197ab425",
   "metadata": {
    "execution": {
     "iopub.execute_input": "2022-05-20T09:51:00.377952Z",
     "iopub.status.busy": "2022-05-20T09:51:00.377072Z",
     "iopub.status.idle": "2022-05-20T09:51:00.388249Z",
     "shell.execute_reply": "2022-05-20T09:51:00.387204Z"
    },
    "papermill": {
     "duration": 0.035981,
     "end_time": "2022-05-20T09:51:00.390681",
     "exception": false,
     "start_time": "2022-05-20T09:51:00.354700",
     "status": "completed"
    },
    "tags": []
   },
   "outputs": [
    {
     "data": {
      "text/plain": [
       "{'accuracy': 77.71106259097526,\n",
       " 'precision': 0.8032156858461,\n",
       " 'recall': 0.7771106259097526,\n",
       " 'f1': 0.7742187576423855}"
      ]
     },
     "execution_count": 14,
     "metadata": {},
     "output_type": "execute_result"
    }
   ],
   "source": [
    "calculate_results(y_true=test_labels,y_pred=model_preds)"
   ]
  },
  {
   "cell_type": "markdown",
   "id": "3e2928c6",
   "metadata": {
    "papermill": {
     "duration": 0.022192,
     "end_time": "2022-05-20T09:51:00.435941",
     "exception": false,
     "start_time": "2022-05-20T09:51:00.413749",
     "status": "completed"
    },
    "tags": []
   },
   "source": [
    "# **PLEASE UPVOTE MY CODE IF YOU LIKE IT AND ALSO CHECK OUT OTHER INTERESTING CODES :) THIS CODE WILL BE UPDATED SOON WITH MORE MODELS AND EXPERIMENTS SOON**"
   ]
  },
  {
   "cell_type": "code",
   "execution_count": null,
   "id": "febb617b",
   "metadata": {
    "papermill": {
     "duration": 0.022027,
     "end_time": "2022-05-20T09:51:00.480130",
     "exception": false,
     "start_time": "2022-05-20T09:51:00.458103",
     "status": "completed"
    },
    "tags": []
   },
   "outputs": [],
   "source": []
  }
 ],
 "metadata": {
  "kernelspec": {
   "display_name": "Python 3",
   "language": "python",
   "name": "python3"
  },
  "language_info": {
   "codemirror_mode": {
    "name": "ipython",
    "version": 3
   },
   "file_extension": ".py",
   "mimetype": "text/x-python",
   "name": "python",
   "nbconvert_exporter": "python",
   "pygments_lexer": "ipython3",
   "version": "3.7.12"
  },
  "papermill": {
   "default_parameters": {},
   "duration": 14.559655,
   "end_time": "2022-05-20T09:51:01.023512",
   "environment_variables": {},
   "exception": null,
   "input_path": "__notebook__.ipynb",
   "output_path": "__notebook__.ipynb",
   "parameters": {},
   "start_time": "2022-05-20T09:50:46.463857",
   "version": "2.3.4"
  }
 },
 "nbformat": 4,
 "nbformat_minor": 5
}
